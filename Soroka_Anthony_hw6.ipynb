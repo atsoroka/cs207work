{
 "cells": [
  {
   "cell_type": "markdown",
   "metadata": {
    "collapsed": true
   },
   "source": [
    "## Anthony Soroka\n",
    "## CS 207 HW 6"
   ]
  },
  {
   "cell_type": "markdown",
   "metadata": {
    "collapsed": true
   },
   "source": [
    "## Q1.\n",
    "\n",
    "Add a __setitem__ to the python linked list implementation from the lecture (this past wednesday)."
   ]
  },
  {
   "cell_type": "code",
   "execution_count": 1,
   "metadata": {
    "collapsed": true
   },
   "outputs": [],
   "source": [
    "#your code here\n",
    "\n",
    "from doctest import run_docstring_examples as dtest\n",
    "import numbers\n",
    "import reprlib\n",
    "class LL:\n",
    "    \"\"\"\n",
    "    >>> A = LL()  \n",
    "    >>> A[0]\n",
    "    Traceback (most recent call last):\n",
    "        ...\n",
    "    IndexError: trying to index an empty LL\n",
    "    >>> A.insert_front(1)\n",
    "    >>> A[0]\n",
    "    1\n",
    "    >>> A.insert_back(2)\n",
    "    >>> A[1]\n",
    "    2\n",
    "    >>> A\n",
    "    LL([1,...])\n",
    "    >>> myll = LL.from_components([1,2])\n",
    "    >>> myll[1]\n",
    "    1\n",
    "    >>> len(myll)\n",
    "    2\n",
    "    >>> myll[2]\n",
    "    Traceback (most recent call last):\n",
    "        ...\n",
    "    IndexError: LL index out of range\n",
    "    >>> myll[0:1]\n",
    "    Traceback (most recent call last):\n",
    "        ...\n",
    "    TypeError: LL indices must be integers\n",
    "    \"\"\"\n",
    "    @classmethod\n",
    "    def from_components(cls, components):\n",
    "        inst = cls(components[0])\n",
    "        for c in components[1:]:\n",
    "            inst.insert_front(c)\n",
    "        return inst\n",
    "        \n",
    "    def __init__(self, head=None):\n",
    "        if head is None:\n",
    "            self._headNode = None\n",
    "        else:\n",
    "            self._headNode = [head, None]\n",
    "            \n",
    "    def insert_front(self, element):\n",
    "        new_node = [element, None]\n",
    "        new_node[1] = self._headNode\n",
    "        self._headNode = new_node\n",
    "        \n",
    "    def insert_back(self, element):\n",
    "        new_node = [element, None]\n",
    "        curr_ptr = self._headNode\n",
    "        while curr_ptr[1] is not None:\n",
    "            curr_ptr = curr_ptr[1]\n",
    "        curr_ptr[1]= new_node\n",
    "        \n",
    "    def __repr__(self):\n",
    "        class_name = type(self).__name__\n",
    "        if len(self)==0:\n",
    "            components=\"\"\n",
    "        else:\n",
    "            components = reprlib.repr(self[0])\n",
    "        return '{}([{},...])'.format(class_name,components)\n",
    "\n",
    "\n",
    "    def __len__(self):\n",
    "        curr_ptr = self._headNode\n",
    "        count = 0\n",
    "        if curr_ptr==None:\n",
    "            return 0\n",
    "        while 1:\n",
    "            count = count + 1\n",
    "            if curr_ptr[1] is None:\n",
    "                break\n",
    "            curr_ptr = curr_ptr[1]\n",
    "        return count    \n",
    "    \n",
    "    def __getitem__(self, index):\n",
    "        class_name = type(self).__name__\n",
    "        if isinstance(index, numbers.Integral): \n",
    "            curr_ptr = self._headNode\n",
    "            if curr_ptr==None:\n",
    "                msg = 'trying to index an empty {class_name}' \n",
    "                raise IndexError(msg.format(class_name=class_name))\n",
    "            next_ptr = self._headNode[1]\n",
    "            count = 0\n",
    "            while 1:\n",
    "                if index == count:\n",
    "                    return curr_ptr[0]\n",
    "                if curr_ptr[1] is None:\n",
    "                    msg = '{class_name} index out of range' \n",
    "                    raise IndexError(msg.format(class_name=class_name))       \n",
    "                count += 1\n",
    "                curr_ptr = curr_ptr[1]\n",
    "        else:\n",
    "            msg = '{class_name} indices must be integers' \n",
    "            raise TypeError(msg.format(class_name=class_name))\n",
    "    \n",
    "    def __setitem__(self, index, value):\n",
    "        if isinstance(index, numbers.Integral): \n",
    "            curr_ptr = self._headNode\n",
    "            if curr_ptr==None:\n",
    "                msg = 'trying to index an empty {class_name}' \n",
    "                raise IndexError(msg.format(class_name=class_name))\n",
    "            next_ptr = self._headNode[1]\n",
    "            count = 0\n",
    "            while 1:\n",
    "                if index == count:\n",
    "                    curr_ptr[0] = value\n",
    "                    return\n",
    "                if curr_ptr[1] is None:\n",
    "                    msg = '{class_name} index out of range' \n",
    "                    raise IndexError(msg.format(class_name=class_name))       \n",
    "                count += 1\n",
    "                curr_ptr = curr_ptr[1]\n",
    "        else:\n",
    "            msg = '{class_name} indices must be integers' \n",
    "            raise TypeError(msg.format(class_name=class_name))\n",
    "\n"
   ]
  },
  {
   "cell_type": "code",
   "execution_count": 2,
   "metadata": {
    "collapsed": false
   },
   "outputs": [
    {
     "data": {
      "text/plain": [
       "LL([5,...])"
      ]
     },
     "execution_count": 2,
     "metadata": {},
     "output_type": "execute_result"
    }
   ],
   "source": [
    "myll=LL.from_components([1,2,32,-4,5])\n",
    "myll"
   ]
  },
  {
   "cell_type": "code",
   "execution_count": 3,
   "metadata": {
    "collapsed": false
   },
   "outputs": [
    {
     "data": {
      "text/plain": [
       "5"
      ]
     },
     "execution_count": 3,
     "metadata": {},
     "output_type": "execute_result"
    }
   ],
   "source": [
    "myll[0]"
   ]
  },
  {
   "cell_type": "code",
   "execution_count": 4,
   "metadata": {
    "collapsed": true
   },
   "outputs": [],
   "source": [
    "myll[0]=10"
   ]
  },
  {
   "cell_type": "code",
   "execution_count": 5,
   "metadata": {
    "collapsed": false
   },
   "outputs": [
    {
     "data": {
      "text/plain": [
       "10"
      ]
     },
     "execution_count": 5,
     "metadata": {},
     "output_type": "execute_result"
    }
   ],
   "source": [
    "myll[0]"
   ]
  },
  {
   "cell_type": "markdown",
   "metadata": {},
   "source": [
    "## Q2.\n",
    "\n",
    "An online mean and standard deviation algorithm.\n",
    "\n",
    "Below is a function to generate a potentially infinite stream of 1-D data."
   ]
  },
  {
   "cell_type": "code",
   "execution_count": 6,
   "metadata": {
    "collapsed": false
   },
   "outputs": [],
   "source": [
    "from random import normalvariate, random\n",
    "from itertools import count\n",
    "def make_data(m, stop=None):\n",
    "    for _ in count():\n",
    "        if stop and _ > stop:\n",
    "            break\n",
    "        yield 1.0e09 + normalvariate(0, m*random() )\n",
    "        "
   ]
  },
  {
   "cell_type": "markdown",
   "metadata": {},
   "source": [
    "Here is an implementation of an online mean algorithm..see http://www.johndcook.com/blog/standard_deviation/ and the link to http://www.johndcook.com/blog/2008/09/26/comparing-three-methods-of-computing-standard-deviation/ in-between. (Convince yourselves of the formulas...)"
   ]
  },
  {
   "cell_type": "code",
   "execution_count": 7,
   "metadata": {
    "collapsed": true
   },
   "outputs": [],
   "source": [
    "def online_mean(iterator):\n",
    "    n = 0\n",
    "    mu = 0\n",
    "    for value in iterator:\n",
    "        n += 1\n",
    "        delta = value - mu\n",
    "        mu = mu + delta/n\n",
    "        yield mu"
   ]
  },
  {
   "cell_type": "markdown",
   "metadata": {},
   "source": [
    "We use out generator functions to implement iterators:"
   ]
  },
  {
   "cell_type": "code",
   "execution_count": 8,
   "metadata": {
    "collapsed": false
   },
   "outputs": [
    {
     "data": {
      "text/plain": [
       "[1000000001.2913613,\n",
       " 999999998.541625,\n",
       " 999999996.4813172,\n",
       " 1000000001.2651098,\n",
       " 1000000000.1076093,\n",
       " 1000000005.0059614,\n",
       " 999999993.9145777,\n",
       " 1000000000.4092168,\n",
       " 999999997.8543077,\n",
       " 1000000000.3356925,\n",
       " 999999999.4412125]"
      ]
     },
     "execution_count": 8,
     "metadata": {},
     "output_type": "execute_result"
    }
   ],
   "source": [
    "g = make_data(5, 10)\n",
    "list(g)"
   ]
  },
  {
   "cell_type": "code",
   "execution_count": 9,
   "metadata": {
    "collapsed": false
   },
   "outputs": [
    {
     "name": "stdout",
     "output_type": "stream",
     "text": [
      "<class 'generator'>\n"
     ]
    },
    {
     "data": {
      "text/plain": [
       "[1000000000.6461619,\n",
       " 1000000000.6865436,\n",
       " 1000000000.4372303,\n",
       " 1000000000.1577805,\n",
       " 999999999.6702225,\n",
       " 999999998.7093304,\n",
       " 999999998.6592153,\n",
       " 999999998.8635647,\n",
       " 999999998.9865268,\n",
       " 999999998.893634,\n",
       " 999999998.8449852,\n",
       " 999999998.8877618,\n",
       " 999999998.913712,\n",
       " 999999998.9869508,\n",
       " 999999999.3656963,\n",
       " 999999999.5846772,\n",
       " 999999999.7313927,\n",
       " 999999999.7135594,\n",
       " 999999999.7919178,\n",
       " 999999999.885739,\n",
       " 1000000000.1059027,\n",
       " 999999999.8517704,\n",
       " 999999999.9311228,\n",
       " 999999999.8749071,\n",
       " 999999999.845178,\n",
       " 999999999.8017563,\n",
       " 999999999.7589154,\n",
       " 999999999.7940309,\n",
       " 999999999.691059,\n",
       " 999999999.5243303,\n",
       " 999999999.5256184,\n",
       " 999999999.5473416,\n",
       " 999999999.5923157,\n",
       " 999999999.7052277,\n",
       " 999999999.7112566,\n",
       " 999999999.7436287,\n",
       " 999999999.7758672,\n",
       " 999999999.7784277,\n",
       " 999999999.7965505,\n",
       " 999999999.7512287,\n",
       " 999999999.7019122,\n",
       " 999999999.7459227,\n",
       " 999999999.7031747,\n",
       " 999999999.5941386,\n",
       " 999999999.6038179,\n",
       " 999999999.6088938,\n",
       " 999999999.6161351,\n",
       " 999999999.6151828,\n",
       " 999999999.6201885,\n",
       " 999999999.5919363,\n",
       " 999999999.5104916,\n",
       " 999999999.4992608,\n",
       " 999999999.4117944,\n",
       " 999999999.44098,\n",
       " 999999999.4414802,\n",
       " 999999999.4264374,\n",
       " 999999999.4422684,\n",
       " 999999999.4704165,\n",
       " 999999999.4955137,\n",
       " 999999999.3703523,\n",
       " 999999999.3809043,\n",
       " 999999999.4597507,\n",
       " 999999999.4882358,\n",
       " 999999999.4962895,\n",
       " 999999999.4365462,\n",
       " 999999999.4434065,\n",
       " 999999999.4419706,\n",
       " 999999999.4294032,\n",
       " 999999999.4577775,\n",
       " 999999999.5020764,\n",
       " 999999999.5255731,\n",
       " 999999999.4700053,\n",
       " 999999999.4503264,\n",
       " 999999999.4472154,\n",
       " 999999999.4763068,\n",
       " 999999999.587637,\n",
       " 999999999.6023396,\n",
       " 999999999.6538085,\n",
       " 999999999.687605,\n",
       " 999999999.6869614,\n",
       " 999999999.6478477,\n",
       " 999999999.6628892,\n",
       " 999999999.7279913,\n",
       " 999999999.7473718,\n",
       " 999999999.720541,\n",
       " 999999999.7666607,\n",
       " 999999999.7694514,\n",
       " 999999999.7745751,\n",
       " 999999999.7733448,\n",
       " 999999999.7212152,\n",
       " 999999999.767018,\n",
       " 999999999.7716823,\n",
       " 999999999.7760198,\n",
       " 999999999.7837112,\n",
       " 999999999.7754909,\n",
       " 999999999.8037646,\n",
       " 999999999.8143817,\n",
       " 999999999.8688017,\n",
       " 999999999.8700585,\n",
       " 999999999.9251297,\n",
       " 999999999.9197944]"
      ]
     },
     "execution_count": 9,
     "metadata": {},
     "output_type": "execute_result"
    }
   ],
   "source": [
    "g = online_mean(make_data(5, 100))\n",
    "print(type(g))\n",
    "list(g)"
   ]
  },
  {
   "cell_type": "markdown",
   "metadata": {},
   "source": [
    "### 2.1\n",
    "\n",
    "Implement the standard deviation algorithm as a generator function as\n",
    "\n",
    "```python\n",
    "def online_mean_dev(iterator):\n",
    "    BLA BLA\n",
    "    if n > 1:\n",
    "        stddev = math.sqrt(dev_accum/(n-1))\n",
    "        yield (n, value, mu, stddev)\n",
    "```"
   ]
  },
  {
   "cell_type": "code",
   "execution_count": 23,
   "metadata": {
    "collapsed": false
   },
   "outputs": [],
   "source": [
    "import math\n",
    "\n",
    "# your code here\n",
    "def online_mean_dev(iterator):\n",
    "    n = 0\n",
    "    mu = 0\n",
    "    stddev = 0 \n",
    "    dev_accum = 0\n",
    "    for value in iterator:\n",
    "        n += 1\n",
    "        delta = value - mu\n",
    "        muOld = mu\n",
    "        mu = mu + delta/n\n",
    "        \n",
    "        if n == 1:\n",
    "            yield (n, value, mu, stddev)\n",
    "            \n",
    "        if n > 1:\n",
    "            dev_accum = dev_accum + (value - muOld)*(value-mu)\n",
    "            stddev = math.sqrt(dev_accum/(n-1))\n",
    "            yield (n, value, mu, stddev)"
   ]
  },
  {
   "cell_type": "markdown",
   "metadata": {},
   "source": [
    "Here we make 100000 element data, and run this iterator on it (imagine running this on a time-series being slowly read from disk"
   ]
  },
  {
   "cell_type": "code",
   "execution_count": 29,
   "metadata": {
    "collapsed": true
   },
   "outputs": [],
   "source": [
    "data_with_stats = online_mean_dev(make_data(5, 100000))"
   ]
  },
  {
   "cell_type": "markdown",
   "metadata": {},
   "source": [
    "## Q3.\n",
    "\n",
    "Let's do Anomaly detection. Write a routine `is_ok`:\n",
    "\n",
    "```python\n",
    "def is_ok(level, t)\n",
    "```\n",
    "\n",
    "which takes a tuple like the one yielded by your code above and returns True if the value is inbetween `level`-$\\sigma$ of the mean.\n",
    "\n",
    "ie mean plues or minus level * sigma"
   ]
  },
  {
   "cell_type": "code",
   "execution_count": 30,
   "metadata": {
    "collapsed": false
   },
   "outputs": [],
   "source": [
    "#your code here\n",
    "def is_ok(level, t):\n",
    "    if (t[1] >= t[2] - level*t[3]) and (t[1] <= t[2] + level*t[3]):\n",
    "        return True\n",
    "    else:\n",
    "        return False"
   ]
  },
  {
   "cell_type": "markdown",
   "metadata": {},
   "source": [
    "We use this function to create a predicate passed through to `itertools.filterfalse` which is then used to obtain an iterator on the anomalies."
   ]
  },
  {
   "cell_type": "code",
   "execution_count": 31,
   "metadata": {
    "collapsed": true
   },
   "outputs": [],
   "source": [
    "from itertools import filterfalse\n",
    "pred = lambda t: is_ok(5, t)\n",
    "anomalies = filterfalse(pred, data_with_stats)"
   ]
  },
  {
   "cell_type": "markdown",
   "metadata": {},
   "source": [
    "We materialize the anomalies..."
   ]
  },
  {
   "cell_type": "code",
   "execution_count": 32,
   "metadata": {
    "collapsed": false
   },
   "outputs": [
    {
     "data": {
      "text/plain": [
       "[(736, 999999985.3929704, 1000000000.1680317, 2.9528528810254486),\n",
       " (2360, 999999982.8804344, 1000000000.118056, 2.9539614862434367),\n",
       " (8919, 1000000015.09703, 999999999.9985555, 2.936650432039978),\n",
       " (10016, 999999985.297056, 1000000000.0011773, 2.927714005453207),\n",
       " (13635, 1000000016.3330787, 1000000000.0105134, 2.9184096730237257),\n",
       " (18051, 999999984.842913, 1000000000.0060955, 2.914297259435276),\n",
       " (21268, 1000000016.4218655, 1000000000.019413, 2.9064304694046013),\n",
       " (30894, 999999982.1473114, 1000000000.0102682, 2.8895235427478783),\n",
       " (33988, 1000000015.8762891, 1000000000.0137726, 2.890059605747303),\n",
       " (36732, 999999985.2819097, 1000000000.0068102, 2.8793577063205396),\n",
       " (37123, 999999982.6506431, 1000000000.0062026, 2.8828898517093364),\n",
       " (38762, 1000000016.0274158, 1000000000.0048505, 2.8854737055909094),\n",
       " (41321, 1000000015.14062, 1000000000.0103319, 2.8891115884661485),\n",
       " (43886, 1000000014.6411188, 1000000000.0090114, 2.88947711931464),\n",
       " (61743, 999999985.2794871, 999999999.9982488, 2.894982931817583),\n",
       " (64666, 1000000015.2233069, 999999999.9988732, 2.894223224325321),\n",
       " (65750, 1000000015.1080961, 999999999.9984711, 2.8952341474137273),\n",
       " (74058, 1000000014.9315039, 999999999.999838, 2.8911683591781068),\n",
       " (75846, 999999981.8503106, 999999999.9993589, 2.892958513740554),\n",
       " (76549, 999999985.2006873, 999999999.9983976, 2.893671524790678),\n",
       " (78220, 999999983.483908, 1000000000.0017893, 2.896596929148112),\n",
       " (78999, 999999985.176384, 1000000000.0012239, 2.899086605852738),\n",
       " (81583, 999999983.0074188, 999999999.9997329, 2.8988975321839336),\n",
       " (82648, 999999984.0721688, 999999999.9986259, 2.9015501675989626),\n",
       " (83791, 999999982.1627376, 999999999.9993234, 2.9016718667851094),\n",
       " (89050, 999999984.6957499, 1000000000.0051534, 2.901216252398078),\n",
       " (95229, 1000000016.2742887, 1000000000.0081127, 2.89975643223024),\n",
       " (95635, 999999985.0453037, 1000000000.0075212, 2.900627264634555),\n",
       " (97708, 1000000014.5140581, 1000000000.0079923, 2.8995899668068073)]"
      ]
     },
     "execution_count": 32,
     "metadata": {},
     "output_type": "execute_result"
    }
   ],
   "source": [
    "list(anomalies)#materialize"
   ]
  },
  {
   "cell_type": "markdown",
   "metadata": {},
   "source": [
    "## To think of, but not hand in\n",
    "\n",
    "What kinds of anomalies will this algorithm pick up? What kinds would a shorter \"window\" of anomaly detection, like 100 points around the time in question pick? How might you create an algorithm which does window based averaging? (hint: the window size is small compared to the time series size). \n",
    "\n",
    "Finally think a bit of how you might implement all of this in a production environment..remember that data streaming in might get backed up when you handle an anomaly.\n",
    "\n",
    "(Some inspiration might accrue if you look at the docs for `collections.deque`)."
   ]
  }
 ],
 "metadata": {
  "anaconda-cloud": {},
  "kernelspec": {
   "display_name": "Python [py35]",
   "language": "python",
   "name": "Python [py35]"
  },
  "language_info": {
   "codemirror_mode": {
    "name": "ipython",
    "version": 3
   },
   "file_extension": ".py",
   "mimetype": "text/x-python",
   "name": "python",
   "nbconvert_exporter": "python",
   "pygments_lexer": "ipython3",
   "version": "3.5.2"
  }
 },
 "nbformat": 4,
 "nbformat_minor": 0
}
