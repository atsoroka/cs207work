{
 "cells": [
  {
   "cell_type": "markdown",
   "metadata": {},
   "source": [
    "## Anthony Soroka\n",
    "## CS 207 HW 7\n",
    "\n",
    "## Q1. Median Maintenance using a Heap\n",
    "\n",
    "\n",
    "### Part 1\n",
    "\n",
    "Implement a \"dominant heap\" class `BinaryHeap`, which can handle both the min heap and the max heap cases, by having the constructor explicitly pass the \"comparison\" operator in. Replace min and del_min by dominant and del_dominant methods. Change the classmethod to also take in the operator."
   ]
  },
  {
   "cell_type": "code",
   "execution_count": 1,
   "metadata": {
    "collapsed": true
   },
   "outputs": [],
   "source": [
    "from operator import gt, lt\n",
    "\n",
    "#your code here\n",
    "\n",
    "# Binary Heap that can handle min and max heaps \n",
    "# Should in fact be able to handle any operator\n",
    "\n",
    "class BinaryHeap:\n",
    "    \n",
    "    ## Init Func, requires operator\n",
    "    def __init__(self,op):\n",
    "        self.storage=[None]\n",
    "        self.upto=0\n",
    "        self.op = op\n",
    "    \n",
    "    @classmethod\n",
    "    def heapify_slow(cls, it, op):\n",
    "        inst = cls(op) \n",
    "        for i in it:\n",
    "            inst.insert(i)\n",
    "        return inst\n",
    "            \n",
    "    def insert(self, value):\n",
    "        # Insert to storage at end, sift_up from bottom\n",
    "        self.storage.append(value)\n",
    "        self.upto += 1\n",
    "        self.sift_up(self.upto)\n",
    "\n",
    "        \n",
    "    def sift_up(self, i):\n",
    "        parent = i // 2\n",
    "        #switch i and parent if i dominates\n",
    "        if parent > 0 and self.op(self.storage[i], self.storage[parent]):\n",
    "                self.storage[i], self.storage[parent] = self.storage[parent], self.storage[i]\n",
    "                self.sift_up(parent)\n",
    "     \n",
    "    def _dom_child(self, i):\n",
    "        #Prior to calling this function, we have checked that at least one child exists\n",
    "        #First confirm there are two childs.  \n",
    "        #If not, return the lone child\n",
    "        if 2*i + 1 > self.upto:\n",
    "            return 2*i\n",
    "        else:\n",
    "            #Compare the two childs, return the dominant one\n",
    "            if self.op(self.storage[2*i], self.storage[2*i+1]):\n",
    "                return 2*i\n",
    "            else:\n",
    "                return 2*i +1\n",
    "    \n",
    "    def sift_down(self, i):\n",
    "        #Check if we are at the bottom level\n",
    "        if 2*i <= self.upto:\n",
    "            # Compare i to child, swap if child is dominant\n",
    "            child = self._dom_child(i)\n",
    "            if self.op(self.storage[child],self.storage[i]):\n",
    "                self.storage[child], self.storage[i] = self.storage[i], self.storage[child]\n",
    "                self.sift_down(child)\n",
    "        \n",
    "    def dominant(self):\n",
    "        return self.storage[1]\n",
    "\n",
    "    \n",
    "    def deldominant(self):\n",
    "        dominantval = self.storage[1]\n",
    "        self.storage[1], self.storage[self.upto] = self.storage[self.upto], self.storage[1]\n",
    "        self.storage.pop()\n",
    "        self.upto -= 1\n",
    "        self.sift_down(1)\n",
    "        return dominantval"
   ]
  },
  {
   "cell_type": "code",
   "execution_count": 2,
   "metadata": {
    "collapsed": true
   },
   "outputs": [],
   "source": [
    "data = [1,8,5,9,23,2,45,6,7,99,-5]"
   ]
  },
  {
   "cell_type": "code",
   "execution_count": 3,
   "metadata": {
    "collapsed": false
   },
   "outputs": [
    {
     "name": "stdout",
     "output_type": "stream",
     "text": [
      "[None, -5, 1, 2, 7, 6, 5, 45, 9, 8, 99, 23]\n"
     ]
    },
    {
     "data": {
      "text/plain": [
       "-5"
      ]
     },
     "execution_count": 3,
     "metadata": {},
     "output_type": "execute_result"
    }
   ],
   "source": [
    "from operator import gt, lt\n",
    "\n",
    "#test min Bin Tree\n",
    "bh = BinaryHeap.heapify_slow(data, lt)\n",
    "print(bh.storage)\n",
    "bh.dominant()"
   ]
  },
  {
   "cell_type": "code",
   "execution_count": 5,
   "metadata": {
    "collapsed": false
   },
   "outputs": [
    {
     "name": "stdout",
     "output_type": "stream",
     "text": [
      "[None, 99, 45, 23, 7, 9, 2, 5, 1, 6, 8, -5]\n"
     ]
    },
    {
     "data": {
      "text/plain": [
       "99"
      ]
     },
     "execution_count": 5,
     "metadata": {},
     "output_type": "execute_result"
    }
   ],
   "source": [
    "# test max Bin Tree\n",
    "bh = BinaryHeap.heapify_slow(data, gt)\n",
    "print(bh.storage)\n",
    "bh.dominant()"
   ]
  },
  {
   "cell_type": "markdown",
   "metadata": {},
   "source": [
    "### Part 2\n",
    "\n",
    "Median maintenance is a very cool algorithm to find an online median.\n",
    "We create two arrays to test our implementation, using np.median to test our answer..."
   ]
  },
  {
   "cell_type": "code",
   "execution_count": 10,
   "metadata": {
    "collapsed": false
   },
   "outputs": [
    {
     "name": "stdout",
     "output_type": "stream",
     "text": [
      "90 569.0\n",
      "91 565.0\n"
     ]
    }
   ],
   "source": [
    "import random\n",
    "import numpy as np\n",
    "\n",
    "#Use numpy to calc median on a random list\n",
    "l = [random.randint(1,1000) for _ in range(90)]\n",
    "print(len(l), np.median(l))\n",
    "l2 = l + [random.randint(1,1000)]\n",
    "print(len(l2), np.median(l2))"
   ]
  },
  {
   "cell_type": "markdown",
   "metadata": {},
   "source": [
    "You will implement def online_median(iterator) which is a generator yielding successive values of your online median.\n",
    "\n",
    "The algorithm is as follows:\n",
    "\n",
    "We'll use 2 heaps, a max heap for the lower half of the data, and a min-heap for the upper half. We take the first 2values in our data and assign the smaller value to the max heap, while the larger value goes to the min-heap. Then, as we \"insert\" subsequent values in one of the two heaps, the following holds: if we keep the number of elements in both heaps equal (for the even case) or at-most differing by one, the median is respectively the average of the two dominants or the dominant in the heap with one extra item.\n",
    "\n",
    "What then is our strategy for this balanced insertion? Quite simple really: if a new value is not as dominant as the dominant value, add it to that heap. If it is more dominant, add it to the other. If two items in a row get added to the same heap, the heaps will be out of balance by more than one. In this case, take the dominant element from the larger heap and simply add it to the smaller one."
   ]
  },
  {
   "cell_type": "code",
   "execution_count": 7,
   "metadata": {
    "collapsed": false
   },
   "outputs": [],
   "source": [
    "#your code here\n",
    "\n",
    "# Function calulates median on operator\n",
    "# Uses two heaps, a min heap and a max heap\n",
    "# Where the heaps dominant values determine the median\n",
    "def online_median(iterator):\n",
    "    n = 0 #counter to check if we are on first or second iter\n",
    "    count = 0 #counter to check if we've added two consective items to a specific heap\n",
    "\n",
    "    for value in iterator:\n",
    "        n += 1\n",
    "        \n",
    "        #If first item, add item to both heaps\n",
    "        if n == 1:\n",
    "            bhMax = BinaryHeap.heapify_slow([value], gt)\n",
    "            bhMin = BinaryHeap.heapify_slow([value], lt)\n",
    "        \n",
    "        #If second item, largest in minHeap, smallest in maxHeap\n",
    "        elif n == 2:\n",
    "            firstVal = bhMax.dominant()\n",
    "            if firstVal < value:\n",
    "                bhMin.deldominant()\n",
    "                bhMin.insert(value)\n",
    "            elif firstVal >= value:\n",
    "                bhMax.deldominant()\n",
    "                bhMax.insert(value)\n",
    "                \n",
    "        #If any other item insert into appropriate heap\n",
    "        # ie if a new value is not as dominant as the heap's dominant value, add it to that heap.\n",
    "        else:\n",
    "            if value > bhMax.dominant():\n",
    "                bhMin.insert(value)\n",
    "                count += 1\n",
    "            else:\n",
    "                bhMax.insert(value)\n",
    "                count -= 1\n",
    "        \n",
    "        ##Keep the two heaps Balanced\n",
    "        \n",
    "        #if added two consecutive values to Min Heap, move dominant to MaxHeap\n",
    "        if count == 2:\n",
    "            moveVal = bhMin.deldominant()\n",
    "            bhMax.insert(moveVal)\n",
    "            count = 0\n",
    "        \n",
    "        #if added two consecutive values to Max Heap, move dominant to MinHeap\n",
    "        if count == -2:\n",
    "            moveVal = bhMax.deldominant()\n",
    "            bhMin.insert(moveVal)\n",
    "            count = 0\n",
    "        \n",
    "        ##if MinHeap is bigger, Median is MinHeap's dominantValue\n",
    "        if count == 1:\n",
    "            myMedian = bhMin.dominant()\n",
    "        \n",
    "        ##if MaxHeap is bigger, Median is MaxHeap's dominantValue\n",
    "        elif count == -1:\n",
    "            myMedian = bhMax.dominant()\n",
    "        \n",
    "        ##if Heaps are balanced, Median is the average of the two heaps' dominantValues\n",
    "        elif count == 0:            \n",
    "            myMedian = (bhMax.dominant()+bhMin.dominant())/2\n",
    "            \n",
    "        yield myMedian"
   ]
  },
  {
   "cell_type": "markdown",
   "metadata": {},
   "source": [
    "Do your answers match?\n"
   ]
  },
  {
   "cell_type": "code",
   "execution_count": 11,
   "metadata": {
    "collapsed": false
   },
   "outputs": [
    {
     "name": "stdout",
     "output_type": "stream",
     "text": [
      "569.0\n"
     ]
    },
    {
     "data": {
      "text/plain": [
       "[<matplotlib.lines.Line2D at 0x10d1a6630>]"
      ]
     },
     "execution_count": 11,
     "metadata": {},
     "output_type": "execute_result"
    },
    {
     "data": {
      "image/png": "[encoded data removed]",
      "text/plain": [
       "<matplotlib.figure.Figure at 0x109acd9e8>"
      ]
     },
     "metadata": {},
     "output_type": "display_data"
    }
   ],
   "source": [
    "%matplotlib inline\n",
    "import matplotlib.pyplot as plt\n",
    "\n",
    "#Insure Online Version matches Numpy\n",
    "medians = list(online_median(iter(l)))\n",
    "print(medians[-1])\n",
    "plt.plot(medians)"
   ]
  },
  {
   "cell_type": "code",
   "execution_count": 12,
   "metadata": {
    "collapsed": false
   },
   "outputs": [
    {
     "data": {
      "text/plain": [
       "565"
      ]
     },
     "execution_count": 12,
     "metadata": {},
     "output_type": "execute_result"
    }
   ],
   "source": [
    "#Insure Online Version matches Numpy\n",
    "list(online_median(iter(l2)))[-1]"
   ]
  },
  {
   "cell_type": "markdown",
   "metadata": {},
   "source": [
    "Lastly, lets repeat the analysis we did last time on the randomly generated data."
   ]
  },
  {
   "cell_type": "code",
   "execution_count": 13,
   "metadata": {
    "collapsed": true
   },
   "outputs": [],
   "source": [
    "from random import normalvariate, random\n",
    "from itertools import count\n",
    "\n",
    "#Create Randomly Generated Data\n",
    "def make_data(m, stop=None):\n",
    "    for _ in count():\n",
    "        if stop and _ > stop:\n",
    "            break\n",
    "        yield 1.0e09 + normalvariate(0, m*random() )"
   ]
  },
  {
   "cell_type": "code",
   "execution_count": 14,
   "metadata": {
    "collapsed": false
   },
   "outputs": [
    {
     "name": "stdout",
     "output_type": "stream",
     "text": [
      "<class 'generator'>\n"
     ]
    },
    {
     "data": {
      "text/plain": [
       "[999999999.7760007,\n",
       " 999999999.787096,\n",
       " 999999999.7760007,\n",
       " 999999999.787096,\n",
       " 999999999.797992,\n",
       " 999999999.787096,\n",
       " 999999999.797992,\n",
       " 999999999.8088878,\n",
       " 999999999.797992,\n",
       " 999999999.8088878]"
      ]
     },
     "execution_count": 14,
     "metadata": {},
     "output_type": "execute_result"
    }
   ],
   "source": [
    "#Insure online_median works on Randomly Generated Data\n",
    "g = online_median(make_data(5, 100))\n",
    "print(type(g))\n",
    "out = list(g)\n",
    "out[-10:]"
   ]
  },
  {
   "cell_type": "code",
   "execution_count": 15,
   "metadata": {
    "collapsed": false
   },
   "outputs": [
    {
     "data": {
      "text/plain": [
       "[<matplotlib.lines.Line2D at 0x10d271ba8>]"
      ]
     },
     "execution_count": 15,
     "metadata": {},
     "output_type": "execute_result"
    },
    {
     "data": {
      "image/png": "[encoded data removed]",
      "text/plain": [
       "<matplotlib.figure.Figure at 0x10cbac8d0>"
      ]
     },
     "metadata": {},
     "output_type": "display_data"
    }
   ],
   "source": [
    "plt.plot(out)"
   ]
  },
  {
   "cell_type": "markdown",
   "metadata": {},
   "source": [
    "## Q2\n",
    "\n",
    "### Simulating a flight check-in counter\n",
    "\n",
    "It is your job to simulate a flight-checkin counter. There are m agents handling n passengers. The passengers arrive in line with in-between time given by an exponential distribution for INTER_ARRIVAL_TIME. Each passenger, once he or she gets to a counter, is processed in a time drawn from an exponential distribution with PROCESSING_TIME. \n",
    "\n",
    "Clearly, in the usual case of 3-4 agents and 200+ customers on a flight, the customer waits much longer. We have been hired by the airlines customer-relations group to see how many extra agents must we hire to reduce waiting times by how much.\n",
    "\n",
    "We start by representing each customer by a co-routine, which starts with the `inline` event. The state changes to the `atcounter` event, and then `ptime` seconds later, to the `leaves` event. Notice how this customer \"process\" is stopped at the yield, until the customer can be handled."
   ]
  },
  {
   "cell_type": "code",
   "execution_count": 16,
   "metadata": {
    "collapsed": true
   },
   "outputs": [],
   "source": [
    "import collections, random\n",
    "Event = collections.namedtuple('Event', 'time cid action agent')\n",
    "\n",
    "#Generator of Customer Processes\n",
    "def customer_process(idee, start, ptime):\n",
    "    t, agent = yield Event(start, idee, \"inline\", None)\n",
    "    t, agent = yield Event(t, idee, \"atcounter\", agent)\n",
    "    yield Event(t+ptime, idee, \"leaves\", agent)\n",
    "            "
   ]
  },
  {
   "cell_type": "markdown",
   "metadata": {},
   "source": [
    "The following function simply implements the draw from the exponential distribution for a given customer:"
   ]
  },
  {
   "cell_type": "code",
   "execution_count": 17,
   "metadata": {
    "collapsed": true
   },
   "outputs": [],
   "source": [
    "#Function that generates exponentially distrbuted customer arrival and service times\n",
    "def duration(arr_time, service_time):\n",
    "    return random.expovariate(1./arr_time), random.expovariate(1./service_time)\n"
   ]
  },
  {
   "cell_type": "markdown",
   "metadata": {},
   "source": [
    "Here is out main simulation class. you will be filling in parts of this class.\n",
    "\n",
    "The constructor sets up the simulation. Three queues are created, one for agents that become free, one priority queue for events so that they can be processed in the order recieved, and a backlog for queue for those customers waiting in line because no agent was available.\n",
    "\n",
    "We set up all the customers in the constructor, with two dictionaries, one to hold the co-routines, and one to hold time metadata which we shall use to figure the average waiting time.\n",
    "\n",
    "The `run` method is where all the action happens and is the one you will edit."
   ]
  },
  {
   "cell_type": "code",
   "execution_count": 18,
   "metadata": {
    "collapsed": false
   },
   "outputs": [],
   "source": [
    "import queue\n",
    "import logging\n",
    "class Simulator:\n",
    "    \n",
    "    def __init__(self, n_agents, n_customers, INTER_ARRIVAL_TIME =1., PROCESSING_TIME=3., DEBUG=False ): \n",
    "        #queues\n",
    "        self.free_agents = queue.Queue()\n",
    "        self.backlog = queue.Queue()\n",
    "        self.events=queue.PriorityQueue()\n",
    "        #save the arguments\n",
    "        self.n_customers = n_customers\n",
    "        self.n_agents = n_agents\n",
    "        self.intertime=INTER_ARRIVAL_TIME\n",
    "        self.proctime=PROCESSING_TIME\n",
    "        #dictionaries to hold customer process\n",
    "        self.customers={}\n",
    "        self.customer_meta={}\n",
    "        self.logger = logging.getLogger(\"sim\")\n",
    "        if DEBUG:\n",
    "            self.logger.setLevel(logging.DEBUG)\n",
    "        else:\n",
    "            self.logger.setLevel(logging.WARNING)\n",
    "        #on the free_agents queue, we put all the agents, and thee time\n",
    "        #they got free\n",
    "        for i in range(n_agents):\n",
    "            self.free_agents.put((i,0))\n",
    "        #this tracks when each customer came in.          \n",
    "        time_when_came=0.\n",
    "        for j in range(n_customers):\n",
    "            interarrtime, proctime = duration(self.intertime, self.proctime)\n",
    "            time_when_came += interarrtime\n",
    "            intuple = (j, time_when_came, proctime)\n",
    "            c = customer_process(*intuple)\n",
    "            self.logger.debug(\"Customer {}, arrived {}, will take {} at counter\".format(*intuple))\n",
    "            #add each customer to dictionaries\n",
    "            self.customers[j]=c\n",
    "            self.customer_meta[j]={'cid':j, 'start':time_when_came, 'finish':None}\n",
    "        self.logger.debug(\"========ending init==============\\n\\n\")\n",
    "        self.max_time_when_came=time_when_came  \n",
    "\n",
    "    def run(self, end_time):\n",
    "        #we prime each customer co-routine at the start\n",
    "        #and put that event in the events priority queue\n",
    "        #Since an event is a tuple, the ordering will be by start time\n",
    "        for cid, proc in sorted(self.customers.items()):\n",
    "            first_event = next(proc)#prime\n",
    "            self.events.put(first_event)#customer in line\n",
    "\n",
    "        #start at time 0\n",
    "        sim_time = 0\n",
    "        while sim_time < end_time:\n",
    "            myFlag = 1\n",
    "            \n",
    "            #we are done if no events and no backlog\n",
    "            if self.events.empty() and self.backlog.empty(): \n",
    "                self.logger.debug('*** end of events and backlog***')\n",
    "                break\n",
    "            #if we have agents available and a backlog\n",
    "            #take customer from backlog queue. This is equivalent\n",
    "            #to taking customers from line\n",
    "            if not self.backlog.empty() and not self.free_agents.empty():\n",
    "                \"YOUR CODE HERE\"\n",
    "                current_event = self.backlog.get()\n",
    "                \n",
    "                #the sim time from this branch will be false\n",
    "                #as we get the old time the person in the line showed up\n",
    "            else: #get current event in all other cases\n",
    "                #his ensures that leave events are processed thus\n",
    "                #freeing up agents\n",
    "                \"YOUR CODE HERE\"\n",
    "                current_event = self.events.get()\n",
    "                \n",
    "            sim_time, cid, action, agent = current_event\n",
    "            \n",
    "            #get the current customer process\n",
    "            cproc = self.customers[cid]\n",
    "                \n",
    "            if action=='leaves':\n",
    "                self.logger.debug(\">>>Customer {} leaves, agent {} free at {}\".format(cid, agent, sim_time))\n",
    "                #an agent gets free. Put the time they got free on q\n",
    "                #also update the metadata\n",
    "                self.free_agents.put((agent[0], sim_time))\n",
    "                self.customer_meta[cid]['finish']=sim_time\n",
    "            elif action=='atcounter':\n",
    "                self.logger.debug(\"Customer {} atcounter Agent {} at {}\".format(cid, agent, sim_time))\n",
    "                next_time = sim_time#processing time already in coroutine\n",
    "            elif action=='inline':#the agent is None to start\n",
    "                self.logger.debug('----------------------------------------------')\n",
    "                self.logger.debug(\"Customer {}, arrived in line @ {}.\".format(cid, sim_time))\n",
    "\n",
    "                if self.free_agents.empty():\n",
    "                    self.logger.debug(\"NO agents available, putting {} inline on backlog at {}\".format(cid, sim_time))\n",
    "                    \"YOUR CODE HERE\"\n",
    "                    self.backlog.put(current_event)\n",
    "                    myFlag = -1\n",
    "                else:\n",
    "                    self.logger.debug(\"{} agents available to serve.\".format(self.free_agents.qsize()))\n",
    "                    \"YOUR CODE HERE\"#handle both situations\n",
    "                    #of getting from backlog or regular. The time in\n",
    "                    #next_time which you will send in message to co-routine\n",
    "                    #below are different\n",
    "                    \n",
    "                    #Get available agent\n",
    "                    #Time Customer is scene is Max of Agent Availability and Customer Availability\n",
    "                    agent = self.free_agents.get()\n",
    "                    next_time = max(sim_time,agent[1])\n",
    "                    self.logger.debug(\"Customer {} inline to be served by Agent {} at {}\".format(cid, agent, next_time))\n",
    "            \n",
    "            if myFlag == 1:\n",
    "                #drive the co-routine by sending in time and agent, and getting\n",
    "                #next event out. The event is put into the priority queue.\n",
    "                try:\n",
    "                    next_event = cproc.send((next_time, agent)) \n",
    "                except StopIteration:\n",
    "                    del self.customers[cid] \n",
    "                else:\n",
    "                    self.events.put(next_event)\n",
    "    \n",
    "    #Function calculates customer total process time\n",
    "    def compute_ptimes(self):\n",
    "        ptimes=[]\n",
    "        for j in range(self.n_customers):\n",
    "            if self.customer_meta[j]['finish']!=None:\n",
    "                ptimes.append(self.customer_meta[j]['finish'] - self.customer_meta[j]['start'])\n",
    "        return ptimes"
   ]
  },
  {
   "cell_type": "code",
   "execution_count": 19,
   "metadata": {
    "collapsed": true
   },
   "outputs": [],
   "source": [
    "#Simulator Helper Function\n",
    "def sim_main(num_agents, num_customers, extratime=20., seed=None, debug=False):\n",
    "    if seed is not None:\n",
    "        random.seed(seed)\n",
    "    sim = Simulator(num_agents, num_customers, DEBUG=debug)\n",
    "    sim.run(sim.max_time_when_came+extratime)\n",
    "    return sim"
   ]
  },
  {
   "cell_type": "markdown",
   "metadata": {},
   "source": [
    "Start small to test this out."
   ]
  },
  {
   "cell_type": "code",
   "execution_count": 20,
   "metadata": {
    "collapsed": false
   },
   "outputs": [
    {
     "name": "stderr",
     "output_type": "stream",
     "text": [
      "Customer 0, arrived 1.2860696352892498, will take 0.25781615829951066 at counter\n",
      "Customer 1, arrived 1.2872475268524601, will take 0.14923138853643883 at counter\n",
      "Customer 2, arrived 1.702202417110288, will take 10.098382848122998 at counter\n",
      "Customer 3, arrived 2.392495713300715, will take 0.1458782690644554 at counter\n",
      "Customer 4, arrived 3.693161439816346, will take 0.8418049649715291 at counter\n",
      "Customer 5, arrived 3.801230038822671, will take 0.3206803330909834 at counter\n",
      "========ending init==============\n",
      "\n",
      "\n",
      "----------------------------------------------\n",
      "Customer 0, arrived in line @ 1.2860696352892498.\n",
      "2 agents available to serve.\n",
      "Customer 0 inline to be served by Agent (0, 0) at 1.2860696352892498\n",
      "Customer 0 atcounter Agent (0, 0) at 1.2860696352892498\n",
      "----------------------------------------------\n",
      "Customer 1, arrived in line @ 1.2872475268524601.\n",
      "1 agents available to serve.\n",
      "Customer 1 inline to be served by Agent (1, 0) at 1.2872475268524601\n",
      "Customer 1 atcounter Agent (1, 0) at 1.2872475268524601\n",
      ">>>Customer 1 leaves, agent (1, 0) free at 1.436478915388899\n",
      ">>>Customer 0 leaves, agent (0, 0) free at 1.5438857935887604\n",
      "----------------------------------------------\n",
      "Customer 2, arrived in line @ 1.702202417110288.\n",
      "2 agents available to serve.\n",
      "Customer 2 inline to be served by Agent (1, 1.436478915388899) at 1.702202417110288\n",
      "Customer 2 atcounter Agent (1, 1.436478915388899) at 1.702202417110288\n",
      "----------------------------------------------\n",
      "Customer 3, arrived in line @ 2.392495713300715.\n",
      "1 agents available to serve.\n",
      "Customer 3 inline to be served by Agent (0, 1.5438857935887604) at 2.392495713300715\n",
      "Customer 3 atcounter Agent (0, 1.5438857935887604) at 2.392495713300715\n",
      ">>>Customer 3 leaves, agent (0, 1.5438857935887604) free at 2.5383739823651705\n",
      "----------------------------------------------\n",
      "Customer 4, arrived in line @ 3.693161439816346.\n",
      "1 agents available to serve.\n",
      "Customer 4 inline to be served by Agent (0, 2.5383739823651705) at 3.693161439816346\n",
      "Customer 4 atcounter Agent (0, 2.5383739823651705) at 3.693161439816346\n",
      "----------------------------------------------\n",
      "Customer 5, arrived in line @ 3.801230038822671.\n",
      "NO agents available, putting 5 inline on backlog at 3.801230038822671\n",
      ">>>Customer 4 leaves, agent (0, 2.5383739823651705) free at 4.534966404787875\n",
      "----------------------------------------------\n",
      "Customer 5, arrived in line @ 3.801230038822671.\n",
      "1 agents available to serve.\n",
      "Customer 5 inline to be served by Agent (0, 4.534966404787875) at 4.534966404787875\n",
      "Customer 5 atcounter Agent (0, 4.534966404787875) at 4.534966404787875\n",
      ">>>Customer 5 leaves, agent (0, 4.534966404787875) free at 4.855646737878859\n",
      ">>>Customer 2 leaves, agent (1, 1.436478915388899) free at 11.800585265233286\n",
      "*** end of events and backlog***\n"
     ]
    }
   ],
   "source": [
    "#Print Debugs and Test Simulation on Simple Example\n",
    "logger = logging.getLogger()\n",
    "logger.addHandler(logging.StreamHandler())\n",
    "sim=sim_main(2,6, debug=True)\n"
   ]
  },
  {
   "cell_type": "markdown",
   "metadata": {},
   "source": [
    "Now lets try it with some larger numbers."
   ]
  },
  {
   "cell_type": "code",
   "execution_count": 21,
   "metadata": {
    "collapsed": false
   },
   "outputs": [
    {
     "data": {
      "image/png": "[encoded data removed]",
      "text/plain": [
       "<matplotlib.figure.Figure at 0x10cbb9240>"
      ]
     },
     "metadata": {},
     "output_type": "display_data"
    }
   ],
   "source": [
    "%matplotlib inline\n",
    "\n",
    "#Single Simulation on a 3 Agents 100 Customers\n",
    "\n",
    "import matplotlib.pyplot as plt\n",
    "sim=sim_main(3,100)\n",
    "plt.hist(sim.compute_ptimes(), bins=20);"
   ]
  },
  {
   "cell_type": "code",
   "execution_count": 22,
   "metadata": {
    "collapsed": false
   },
   "outputs": [
    {
     "data": {
      "image/png": "[encoded data removed]",
      "text/plain": [
       "<matplotlib.figure.Figure at 0x10d3995f8>"
      ]
     },
     "metadata": {},
     "output_type": "display_data"
    }
   ],
   "source": [
    "#Single Simulation on a 4 Agents 100 Customers\n",
    "\n",
    "sim2=sim_main(4,100)\n",
    "plt.hist(sim2.compute_ptimes(), bins=20);"
   ]
  },
  {
   "cell_type": "markdown",
   "metadata": {},
   "source": [
    "extra time needed below as with 400 passengers a long time is taken to process."
   ]
  },
  {
   "cell_type": "code",
   "execution_count": 23,
   "metadata": {
    "collapsed": false
   },
   "outputs": [
    {
     "data": {
      "image/png": "[encoded data removed]",
      "text/plain": [
       "<matplotlib.figure.Figure at 0x10d41ea58>"
      ]
     },
     "metadata": {},
     "output_type": "display_data"
    }
   ],
   "source": [
    "#Single Simulation on a 2 Agents 400 Customers\n",
    "\n",
    "sim2=sim_main(2,400, extratime=100)\n",
    "plt.hist(sim2.compute_ptimes(), bins=20);"
   ]
  },
  {
   "cell_type": "markdown",
   "metadata": {},
   "source": [
    "For a proper statistical analysis, you would want to draw this multiple times and look at the distribution of the averages as well. But you should know what this distribution is :-)."
   ]
  },
  {
   "cell_type": "markdown",
   "metadata": {},
   "source": [
    "** Analysis **\n",
    "\n",
    "The distribution of the averages will be the Poisson distribution illustrated as per below."
   ]
  },
  {
   "cell_type": "code",
   "execution_count": 24,
   "metadata": {
    "collapsed": false
   },
   "outputs": [
    {
     "data": {
      "image/png": "[encoded data removed]",
      "text/plain": [
       "<matplotlib.figure.Figure at 0x10d578b38>"
      ]
     },
     "metadata": {},
     "output_type": "display_data"
    }
   ],
   "source": [
    "averages = np.array([])\n",
    "\n",
    "#Simulation generating Average Process Time using 3 Agents and 100 Customers\n",
    "\n",
    "for i in range(1000):\n",
    "    sim=sim_main(3,100, extratime=100)\n",
    "    averages = np.append( averages, np.mean(sim.compute_ptimes()))\n",
    "plt.hist(averages, bins=20);"
   ]
  },
  {
   "cell_type": "code",
   "execution_count": 25,
   "metadata": {
    "collapsed": false
   },
   "outputs": [
    {
     "data": {
      "image/png": "[encoded data removed]",
      "text/plain": [
       "<matplotlib.figure.Figure at 0x10d410f98>"
      ]
     },
     "metadata": {},
     "output_type": "display_data"
    }
   ],
   "source": [
    "averages = np.array([])\n",
    "\n",
    "#Simulation generating Average Process Time using 4 Agents and 100 Customers\n",
    "\n",
    "for i in range(1000):\n",
    "    sim=sim_main(4,100, extratime=100)\n",
    "    averages = np.append( averages, np.mean(sim.compute_ptimes()))\n",
    "plt.hist(averages, bins=20);"
   ]
  },
  {
   "cell_type": "code",
   "execution_count": 26,
   "metadata": {
    "collapsed": false
   },
   "outputs": [
    {
     "data": {
      "image/png": "[encoded data removed]",
      "text/plain": [
       "<matplotlib.figure.Figure at 0x109ab6390>"
      ]
     },
     "metadata": {},
     "output_type": "display_data"
    }
   ],
   "source": [
    "averages = np.array([])\n",
    "\n",
    "#Simulation generating Average Process Time using 2 Agents and 400 Customers\n",
    "\n",
    "for i in range(1000):\n",
    "    sim=sim_main(2,400, extratime=100)\n",
    "    averages = np.append( averages, np.mean(sim.compute_ptimes()))\n",
    "plt.hist(averages, bins=20);"
   ]
  }
 ],
 "metadata": {
  "anaconda-cloud": {},
  "kernelspec": {
   "display_name": "Python [py35]",
   "language": "python",
   "name": "Python [py35]"
  },
  "language_info": {
   "codemirror_mode": {
    "name": "ipython",
    "version": 3
   },
   "file_extension": ".py",
   "mimetype": "text/x-python",
   "name": "python",
   "nbconvert_exporter": "python",
   "pygments_lexer": "ipython3",
   "version": "3.5.2"
  }
 },
 "nbformat": 4,
 "nbformat_minor": 0
}
